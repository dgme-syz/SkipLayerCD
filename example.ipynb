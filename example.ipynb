{
 "cells": [
  {
   "cell_type": "code",
   "execution_count": 8,
   "metadata": {},
   "outputs": [],
   "source": [
    "from transformers import AutoTokenizer, AutoModelForCausalLM\n",
    "import torch\n",
    "path = \"E:/pretrained_models/Qwen/Qwen2___5-0___5B-Instruct\"\n",
    "\n",
    "torch.cuda.empty_cache()\n",
    "tokenizer = AutoTokenizer.from_pretrained(path)\n",
    "model = AutoModelForCausalLM.from_pretrained(\n",
    "    path, device_map=\"auto\", torch_dtype=\"auto\")\n"
   ]
  },
  {
   "cell_type": "code",
   "execution_count": 9,
   "metadata": {},
   "outputs": [],
   "source": [
    "from utils.skip_layer import sl_generate\n",
    "\n",
    "text = \"(只需要回答当前问题，请把你的答案写在 The answer is 的后面)Q: 珍妮特的鸭子每天下 16 颗蛋。她每天早上早餐时吃 3 颗，每天用 4 颗为自己的朋友做松饼。剩下的鸭蛋她每天拿去农贸市场卖，每颗新鲜鸭蛋卖 2 美元。她每天在农贸市场赚多少钱？ \\nA:\"\n",
    "prompt = tokenizer(text, return_tensors=\"pt\", add_special_tokens=False)[\"input_ids\"]"
   ]
  },
  {
   "cell_type": "code",
   "execution_count": 13,
   "metadata": {},
   "outputs": [
    {
     "name": "stdout",
     "output_type": "stream",
     "text": [
      "(只需要回答当前问题，请把你的答案写在 The answer is 的后面)Q: 珍妮特的鸭子每天下 16 颗蛋。她每天早上早餐时吃 3 颗，每天用 4 颗为自己的朋友做松饼。剩下的鸭蛋她每天拿去农贸市场卖，每颗新鲜鸭蛋卖 2 美元。她每天在农贸市场赚多少钱？ \n",
      "A: 我们可以通过计算珍妮特每天卖掉的鸭蛋数量来得到答案。\n",
      "\n",
      "每天下鸭蛋的数量：16颗\n",
      "每天早餐时吃的鸭蛋数量：3颗\n",
      "每天为朋友松饼做的鸭蛋数量：4颗\n",
      "\n",
      "因此，珍妮特每天剩下的鸭蛋数量为：\n",
      "\\[16 - 3 - 4 = 7\\]颗\n",
      "\n",
      "剩下的7颗鸭蛋她每天可以卖：\n",
      "\\[7 \\times 2 = 14\\]美元\n",
      "\n",
      "所以，珍妮特在农贸市场每天总共能赚 14 美元。答案是14。 The answer is 14. (answer) (7) The answer is 14. (answer) (7) The answer is 14. (answer) (7) The answer is 14. (answer) (7) The answer is 14. (answer) (7) The answer is 14. (answer) (7) The answer is 14. (answer) (7) The answer is 14. (answer) (7) The answer is 14. (answer) (7) The answer is 14. (answer) (7) The answer is 14. (answer) (7) The answer is 14. (answer) (7) The answer is 14. (answer) (7) The answer is 14. (answer) (7) The answer is 14. (answer) (7) The answer is 14. (answer) (7) The answer is 14. (answer) (7) The answer is 14. (answer) (7) The answer is 14. (answer) (7) The answer is 14. (answer) (7) The answer is 14. (answer) (7) The answer is 14. (answer) (7) The answer\n"
     ]
    }
   ],
   "source": [
    "a = sl_generate(model=model, inputs=prompt.to(model.device), do_sample=True, max_length=512, sl_layers=\"sl-h\",\n",
    "    prefix_logits = tokenizer(\n",
    "        \"我有10个苹果，Bob拿走了1个，Alice拿走了2个，我还剩下几个苹果？答案是10-1-2=7个\", return_tensors=\"pt\"\n",
    "    )[\"input_ids\"])\n",
    "print(tokenizer.decode(a[0], skip_special_tokens=True))"
   ]
  },
  {
   "cell_type": "code",
   "execution_count": 11,
   "metadata": {},
   "outputs": [
    {
     "name": "stdout",
     "output_type": "stream",
     "text": [
      "(只需要回答当前问题，请把你的答案写在 The answer is 的后面)Q: 珍妮特的鸭子每天下 16 颗蛋。她每天早上早餐时吃 3 颗，每天用 4 颗为自己的朋友做松饼。剩下的鸭蛋她每天拿去农贸市场卖，每颗新鲜鸭蛋卖 2 美元。她每天在农贸市场赚多少钱？ \n",
      "A: 16-3-4=13（颗） 13*2=26（美元） 答案是：26美元。\n",
      "\n",
      "The answer is 26美元。珍妮特每天吃3颗松饼，用4颗松饼做松饼，剩下13颗松饼。13颗松饼每颗卖2美元，所以她每天在农贸市场赚26美元。答案是26美元。 这个问题的答案是26美元。 这个问题需要我们计算珍妮特每天卖鸭蛋赚的钱。首先，我们需要计算珍妮特每天吃3颗松饼，用4颗松饼做松饼，剩下13颗松饼。13颗松饼每颗卖2美元，所以她每天在农贸市场赚26美元。答案是26美元。 这个问题的答案是26美元。 这个问题的答案是26美元。 这个问题的答案是26美元。 这个问题的答案是26美元。 这个问题的答案是26美元。 这个问题的答案是26美元。 这个问题的答案是26美元。 这个问题的答案是26美元。 这个问题的答案是26美元。 这个问题的答案是26美元。 这个问题的答案是26美元。 这个问题的答案是26美元。 这个问题的答案是26美元。 这个问题的答案是26美元。 这个问题的答案是26美元。 这个问题的答案是26美元。 这个问题的答案是26美元。 这个问题的答案是26美元。 这个问题的答案是26美元。 这个问题的答案是26美元。 这个问题的答案是26美元。 这个问题的答案是26美元。 这个问题的答案是26美元。 这个问题的答案是2\n"
     ]
    }
   ],
   "source": [
    "b = model.generate(input_ids=prompt.to(model.device), max_length=512, dola_layers=\"high\", do_sample=True)\n",
    "print(tokenizer.decode(b[0], skip_special_tokens=True))\n"
   ]
  },
  {
   "cell_type": "code",
   "execution_count": 9,
   "metadata": {},
   "outputs": [
    {
     "data": {
      "text/plain": [
       "254"
      ]
     },
     "execution_count": 9,
     "metadata": {},
     "output_type": "execute_result"
    }
   ],
   "source": [
    "len(a[0])"
   ]
  },
  {
   "cell_type": "code",
   "execution_count": null,
   "metadata": {},
   "outputs": [],
   "source": []
  }
 ],
 "metadata": {
  "kernelspec": {
   "display_name": "webui",
   "language": "python",
   "name": "python3"
  },
  "language_info": {
   "codemirror_mode": {
    "name": "ipython",
    "version": 3
   },
   "file_extension": ".py",
   "mimetype": "text/x-python",
   "name": "python",
   "nbconvert_exporter": "python",
   "pygments_lexer": "ipython3",
   "version": "3.10.6"
  }
 },
 "nbformat": 4,
 "nbformat_minor": 2
}
