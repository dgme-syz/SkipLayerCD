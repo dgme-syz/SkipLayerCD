{
 "cells": [
  {
   "cell_type": "code",
   "execution_count": 1,
   "metadata": {},
   "outputs": [
    {
     "name": "stderr",
     "output_type": "stream",
     "text": [
      "d:\\app\\anaconda\\envs\\webui\\lib\\site-packages\\tqdm\\auto.py:21: TqdmWarning: IProgress not found. Please update jupyter and ipywidgets. See https://ipywidgets.readthedocs.io/en/stable/user_install.html\n",
      "  from .autonotebook import tqdm as notebook_tqdm\n",
      "d:\\app\\anaconda\\envs\\webui\\lib\\site-packages\\transformers\\utils\\hub.py:128: FutureWarning: Using `TRANSFORMERS_CACHE` is deprecated and will be removed in v5 of Transformers. Use `HF_HOME` instead.\n",
      "  warnings.warn(\n"
     ]
    }
   ],
   "source": [
    "from transformers import AutoTokenizer, AutoModelForCausalLM\n",
    "\n",
    "path = \"E:\\pretrained_models\\LLM-Research\\Llama-3___2-1B-Instruct\"\n",
    "\n",
    "tokenizer = AutoTokenizer.from_pretrained(path)\n",
    "model = AutoModelForCausalLM.from_pretrained(\n",
    "    path, device_map=\"auto\", torch_dtype=\"auto\")\n"
   ]
  },
  {
   "cell_type": "code",
   "execution_count": 2,
   "metadata": {},
   "outputs": [],
   "source": [
    "from utils.skip_layer import sl_generate\n",
    "\n",
    "text = \"汤米正在通过卖布朗尼蛋糕(每块3美元)和芝士蛋糕(每块4美元)为自己的慈善组织筹款。如果汤米卖出了43块布朗尼蛋糕和23块芝士蛋糕，他筹到了多少钱？\"\n",
    "prompt = tokenizer(text, return_tensors=\"pt\", add_special_tokens=False)[\"input_ids\"]"
   ]
  },
  {
   "cell_type": "code",
   "execution_count": 5,
   "metadata": {},
   "outputs": [
    {
     "name": "stderr",
     "output_type": "stream",
     "text": [
      "The attention mask and the pad token id were not set. As a consequence, you may observe unexpected behavior. Please pass your input's `attention_mask` to obtain reliable results.\n",
      "Setting `pad_token_id` to `eos_token_id`:None for open-end generation.\n"
     ]
    },
    {
     "name": "stdout",
     "output_type": "stream",
     "text": [
      "汤米正在通过卖布朗尼蛋糕(每块3美元)和芝士蛋糕(每块4美元)为自己的慈善组织筹款。如果汤米卖出了43块布朗尼蛋糕和23块芝士蛋糕，他筹到了多少钱？ \n",
      "求总筹资。 \n",
      "\n",
      "步骤 1：首先计算 Tommy 在布朗尼蛋糕上的筹钱总额，布朗尼蛋糕每块 3 美元，他卖了多少块。 \n",
      "第 2 步：同样计算 Tommy 在芝士蛋糕上的筹钱总额，芝士蛋糕每块 4 美元，他卖出了多少块。 \n",
      "步骤3：求布朗尼和芝士蛋糕筹资的总额，即布朗尼筹钱的金额加上芝士筹钱的金额。\n",
      "\n",
      "回答：\n",
      "布朗尼筹钱总额为 $3 x 43 = $129。\n",
      "芝士筹钱总额为 $4 x 23 = $92。\n",
      "总筹资额为 $129 + $92 = $221。\n"
     ]
    }
   ],
   "source": [
    "a = sl_generate(model=model, inputs=prompt.to(model.device), do_sample=True, max_length=512, sl_layers=\"sl-d\",\n",
    "    prefix_logits = tokenizer(\n",
    "        \"我有10个苹果，Bob拿走了1个，Alice拿走了2个，我还剩下几个苹果？答案是10-1-2=7个\", return_tensors=\"pt\"\n",
    "    )[\"input_ids\"])\n",
    "print(tokenizer.decode(a[0], skip_special_tokens=True))"
   ]
  },
  {
   "cell_type": "code",
   "execution_count": 6,
   "metadata": {},
   "outputs": [
    {
     "name": "stderr",
     "output_type": "stream",
     "text": [
      "The attention mask and the pad token id were not set. As a consequence, you may observe unexpected behavior. Please pass your input's `attention_mask` to obtain reliable results.\n",
      "Setting `pad_token_id` to `eos_token_id`:None for open-end generation.\n"
     ]
    },
    {
     "name": "stdout",
     "output_type": "stream",
     "text": [
      "汤米正在通过卖布朗尼蛋糕(每块3美元)和芝士蛋糕(每块4美元)为自己的慈善组织筹款。如果汤米卖出了43块布朗尼蛋糕和23块芝士蛋糕，他筹到了多少钱？ \n",
      "首先求布朗尼蛋糕的总成本：43 * 3 = 129$\n",
      "然后求芝士蛋糕的总成本：23 * 4 = 92$\n",
      "然后将布朗尼蛋糕的成本与芝士蛋糕的成本相加，得出总成本：129 + 92 = 221$\n",
      "答案是221$。\n"
     ]
    }
   ],
   "source": [
    "b = model.generate(input_ids=prompt.to(model.device), max_length=512, dola_layers=\"high\", do_sample=True)\n",
    "print(tokenizer.decode(b[0], skip_special_tokens=True))\n"
   ]
  },
  {
   "cell_type": "code",
   "execution_count": null,
   "metadata": {},
   "outputs": [],
   "source": []
  }
 ],
 "metadata": {
  "kernelspec": {
   "display_name": "webui",
   "language": "python",
   "name": "python3"
  },
  "language_info": {
   "codemirror_mode": {
    "name": "ipython",
    "version": 3
   },
   "file_extension": ".py",
   "mimetype": "text/x-python",
   "name": "python",
   "nbconvert_exporter": "python",
   "pygments_lexer": "ipython3",
   "version": "3.10.6"
  }
 },
 "nbformat": 4,
 "nbformat_minor": 2
}
