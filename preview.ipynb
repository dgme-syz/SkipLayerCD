{
 "cells": [
  {
   "cell_type": "code",
   "execution_count": 1,
   "metadata": {},
   "outputs": [
    {
     "name": "stderr",
     "output_type": "stream",
     "text": [
      "d:\\app\\anaconda\\envs\\webui\\lib\\site-packages\\tqdm\\auto.py:21: TqdmWarning: IProgress not found. Please update jupyter and ipywidgets. See https://ipywidgets.readthedocs.io/en/stable/user_install.html\n",
      "  from .autonotebook import tqdm as notebook_tqdm\n",
      "d:\\app\\anaconda\\envs\\webui\\lib\\site-packages\\transformers\\utils\\hub.py:128: FutureWarning: Using `TRANSFORMERS_CACHE` is deprecated and will be removed in v5 of Transformers. Use `HF_HOME` instead.\n",
      "  warnings.warn(\n",
      "Loading checkpoint shards: 100%|██████████| 2/2 [00:05<00:00,  2.83s/it]\n",
      "Some parameters are on the meta device because they were offloaded to the cpu.\n"
     ]
    }
   ],
   "source": [
    "from transformers import AutoTokenizer, AutoModelForCausalLM\n",
    "import re\n",
    "import torch\n",
    "import torch.nn as nn\n",
    "\n",
    "path = [\n",
    "    \"LGAI-EXAONE/EXAONE-3.5-2.4B-Instruct\",\n",
    "    \"E:/pretrained_models/Qwen/Qwen2___5-0___5B-Instruct\",\n",
    "    \"E:/pretrained_models/LLM-Research/Llama-3___2-1B-Instruct\"\n",
    "]\n",
    "\n",
    "tokenizer = AutoTokenizer.from_pretrained(\n",
    "    path[0], trust_remote_code=True)\n",
    "model = AutoModelForCausalLM.from_pretrained(\n",
    "    path[0], device_map=\"auto\", torch_dtype=\"auto\", trust_remote_code=True)\n",
    "# Prepare Hook"
   ]
  },
  {
   "cell_type": "code",
   "execution_count": 2,
   "metadata": {},
   "outputs": [
    {
     "data": {
      "text/plain": [
       "10"
      ]
     },
     "execution_count": 2,
     "metadata": {},
     "output_type": "execute_result"
    }
   ],
   "source": [
    "def count_zh(text: str) -> int:\n",
    "    zh_pattern = re.findall(r'[\\u4e00-\\u9fff，。？！：；“”‘’（）《》【】]', text)\n",
    "    return len(zh_pattern)\n",
    "\n",
    "count_zh(\"你好，月色真美，dgmesyz:：。\")"
   ]
  },
  {
   "cell_type": "code",
   "execution_count": 3,
   "metadata": {},
   "outputs": [
    {
     "name": "stdout",
     "output_type": "stream",
     "text": [
      "回字有多少写法(使用中文回答)\n",
      "\n",
      "回答题具难度的多种考察方式可以包括但不限于以下几点:\n",
      "1. **技术细节描述**:详细分析了解每种写法的工作原理、适用场景以及区别如何。\n",
      "2. **情景应用**:为了掌握技术之外的能力,你能在给定的或相关的情景下怎样选择合适的写法。\n",
      "3. **性能与效率**:考察了解每种方法对资源消耗的影响及是否适合长期使用或高水平应用。\n",
      "4. **安全考量**:对各种写法是否具备适应安全需求(例如�\n"
     ]
    }
   ],
   "source": [
    "# easy test\n",
    "print(\n",
    "    tokenizer.decode(\n",
    "        model.generate(\n",
    "            inputs = tokenizer(\"回字有多少写法(使用中文回答)\", return_tensors=\"pt\").input_ids.to(model.device),\n",
    "            max_length=256, do_sample=True, eos_token_id=tokenizer.eos_token_id, pad_token_id=tokenizer.pad_token_id\n",
    "        )[0], skip_special_tokens=True\n",
    "    )\n",
    ")\n"
   ]
  },
  {
   "cell_type": "code",
   "execution_count": 4,
   "metadata": {},
   "outputs": [
    {
     "name": "stdout",
     "output_type": "stream",
     "text": [
      "ExaoneForCausalLM(\n",
      "  (transformer): ExaoneModel(\n",
      "    (wte): Embedding(102400, 2560, padding_idx=0)\n",
      "    (drop): Dropout(p=0.0, inplace=False)\n",
      "    (h): ModuleList(\n",
      "      (0-29): 30 x ExaoneBlock(\n",
      "        (ln_1): ExaoneRMSNorm()\n",
      "        (attn): ExaoneAttention(\n",
      "          (attention): ExaoneSdpaAttention(\n",
      "            (rotary): ExaoneRotaryEmbedding()\n",
      "            (k_proj): Linear(in_features=2560, out_features=640, bias=False)\n",
      "            (v_proj): Linear(in_features=2560, out_features=640, bias=False)\n",
      "            (q_proj): Linear(in_features=2560, out_features=2560, bias=False)\n",
      "            (out_proj): Linear(in_features=2560, out_features=2560, bias=False)\n",
      "          )\n",
      "        )\n",
      "        (ln_2): ExaoneRMSNorm()\n",
      "        (mlp): ExaoneGatedMLP(\n",
      "          (c_fc_0): Linear(in_features=2560, out_features=7168, bias=False)\n",
      "          (c_fc_1): Linear(in_features=2560, out_features=7168, bias=False)\n",
      "          (c_proj): Linear(in_features=7168, out_features=2560, bias=False)\n",
      "          (act): SiLU()\n",
      "        )\n",
      "      )\n",
      "    )\n",
      "    (ln_f): ExaoneRMSNorm()\n",
      "    (rotary): ExaoneRotaryEmbedding()\n",
      "  )\n",
      "  (lm_head): Linear(in_features=2560, out_features=102400, bias=False)\n",
      ")\n"
     ]
    }
   ],
   "source": [
    "print(model)"
   ]
  },
  {
   "cell_type": "code",
   "execution_count": 6,
   "metadata": {},
   "outputs": [
    {
     "name": "stdout",
     "output_type": "stream",
     "text": [
      "问题：罗杰有 5 个网球。他又买了 2 罐网球。每罐有 3 个网球。他现在有多少个网球？\n",
      "问题：服务器机房里有九台电脑。从周一到周四，每天又安装了五台电脑。服务器机房里现在有多少台电脑？\n",
      "问题：利亚有 32 块巧克力，她妹妹有 42 块。如果她们吃了 35 块，她们一共还剩下多少块？\n",
      "问题：肖恩有五个玩具。圣诞节他从他爸爸妈妈那里各得到了两个玩具。他现在有多少个玩具？\n",
      "问题：迈克尔有 58 个高尔夫球。周二，他丢失了 23 个高尔夫球。周三，他又丢失了 2 个。周三结束时他有多少个高尔夫球？\n",
      "问题：奥利维亚有 23 美元。她买了五个单价 3 美元的百吉饼。她还剩多少钱？\n",
      "问题：杰森有 20 根棒棒糖。他给了丹尼一些棒棒糖。现在杰森有 12 根棒棒糖。杰森给了丹尼多少根棒棒糖？\n",
      "问题：如果停车场里有 3 辆车，又来了 2 辆车，停车场里有多少辆车？\n",
      "['Layer 0: 128/285', 'Layer 1: 97/285', 'Layer 2: 95/285', 'Layer 3: 91/285', 'Layer 4: 65/285', 'Layer 5: 96/285', 'Layer 6: 62/285', 'Layer 7: 79/285', 'Layer 8: 81/285', 'Layer 9: 80/285', 'Layer 10: 110/285', 'Layer 11: 125/285', 'Layer 12: 136/285', 'Layer 13: 146/285', 'Layer 14: 166/285', 'Layer 15: 160/285', 'Layer 16: 202/285', 'Layer 17: 131/285', 'Layer 18: 171/285', 'Layer 19: 224/285', 'Layer 20: 274/285', 'Layer 21: 325/285', 'Layer 22: 321/285', 'Layer 23: 276/285']\n"
     ]
    }
   ],
   "source": [
    "from transformers.models.llama.modeling_llama import LlamaDecoderLayer\n",
    "from transformers.models.qwen2.modeling_qwen2 import Qwen2DecoderLayer\n",
    "from typing import Union\n",
    "\n",
    "NUM_LAYERS = model.config.num_hidden_layers\n",
    "\n",
    "zh_table, al_table, zh_num = [0] * NUM_LAYERS, [0] * NUM_LAYERS, [0]\n",
    "hooks = []\n",
    "\n",
    "\n",
    "@torch.inference_mode()\n",
    "def hook(modules: nn.Module, inp, out, **kwargs):\n",
    "    # ref from modelling_llama.py\n",
    "    if not isinstance(modules, Union[LlamaDecoderLayer, Qwen2DecoderLayer]):\n",
    "        raise ValueError(f\"hook must be registered on LlamaDecoderLayer, got {modules._get_name()}\")\n",
    "    prefix = kwargs.get(\"prefix\", None)\n",
    "    if prefix is None:\n",
    "        raise ValueError(\"hook must have a name\")\n",
    "    with torch.no_grad():\n",
    "        hidden_states = out[0].detach().clone()\n",
    "        if hidden_states.device != model.device:\n",
    "            hidden_states = hidden_states.to(model.device)\n",
    "        \n",
    "        # print(hidden_states.shape)\n",
    "        hidden_states = model.model.norm(hidden_states)\n",
    "        logits = model.lm_head(hidden_states)\n",
    "        input_ids = logits.argmax(dim=-1)\n",
    "        \n",
    "        zh, al = 0, 0\n",
    "        for id in input_ids[0]:\n",
    "            generate_str = tokenizer.decode(\n",
    "                id, skip_special_tokens=True)   \n",
    "            zh += count_zh(generate_str)\n",
    "            al += 1\n",
    "        # print(\n",
    "        #     repr(f\"layer: {prefix}, generate: {generate_str}, count_zh: {zh}, length: {al}\"))\n",
    "        layer_num = int(prefix.split(\".\")[-1])\n",
    "        zh_table[layer_num] += zh\n",
    "        al_table[layer_num] += al\n",
    "    return out\n",
    "\n",
    "pattern = re.compile(r\".*layers\\.\\d*$\")\n",
    "\n",
    "for name, module in model.named_modules():\n",
    "    if re.match(pattern, name):\n",
    "        hooks.append(\n",
    "            module.register_forward_hook(\n",
    "                hook=lambda modules, inp, out, prefix=name: hook(modules, inp, out, prefix=prefix)\n",
    "        ))\n",
    "        \n",
    "        \n",
    "from datasets import load_dataset\n",
    "ds = load_dataset(\"E:/datasets/mgsm\", \"zh\", trust_remote_code=True)\n",
    "\n",
    "text = ds[\"train\"][\"question\"]\n",
    "\n",
    "tokenizer.pad_token = tokenizer.eos_token\n",
    "for t in text:\n",
    "    print(t)\n",
    "    x = model(**tokenizer(t, return_tensors=\"pt\", add_special_tokens=False).to(model.device)).logits\n",
    "    x = x.argmax(dim=-1).squeeze(0)\n",
    "    # print(tokenizer.decode(x, skip_special_tokens=True))\n",
    "# print(string)\n",
    "for hook_ in hooks:\n",
    "    hook_.remove()\n",
    "print([f\"Layer {i}: {zh_table[i]}/{al_table[i]}\" for i in range(len(zh_table))])\n",
    "# print(\n",
    "#     f\"generate zh_word {count_zh(string)} and greedy zh_word {zh_num[0]}\"\n",
    "# )"
   ]
  },
  {
   "cell_type": "code",
   "execution_count": 7,
   "metadata": {},
   "outputs": [
    {
     "data": {
      "image/png": "[encoded data removed]",
      "text/plain": [
       "<Figure size 640x480 with 1 Axes>"
      ]
     },
     "metadata": {},
     "output_type": "display_data"
    }
   ],
   "source": [
    "import matplotlib.pyplot as plt\n",
    "import numpy as np\n",
    "\n",
    "fig, ax = plt.subplots()\n",
    "ax.bar(np.arange(16), [zh_table[i]/al_table[i] for i in range(16)], label=\"zh_word/length\")\n",
    "ax.grid()"
   ]
  },
  {
   "cell_type": "code",
   "execution_count": null,
   "metadata": {},
   "outputs": [],
   "source": []
  }
 ],
 "metadata": {
  "kernelspec": {
   "display_name": "webui",
   "language": "python",
   "name": "python3"
  },
  "language_info": {
   "codemirror_mode": {
    "name": "ipython",
    "version": 3
   },
   "file_extension": ".py",
   "mimetype": "text/x-python",
   "name": "python",
   "nbconvert_exporter": "python",
   "pygments_lexer": "ipython3",
   "version": "3.10.6"
  }
 },
 "nbformat": 4,
 "nbformat_minor": 2
}
